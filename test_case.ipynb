{
 "cells": [
  {
   "cell_type": "markdown",
   "metadata": {},
   "source": [
    "# Testing MultiSigBTC"
   ]
  },
  {
   "cell_type": "markdown",
   "metadata": {},
   "source": [
    "##### Some imports we need for the testing"
   ]
  },
  {
   "cell_type": "code",
   "execution_count": 1,
   "metadata": {
    "vscode": {
     "languageId": "bat"
    }
   },
   "outputs": [],
   "source": [
    "import json"
   ]
  },
  {
   "cell_type": "markdown",
   "metadata": {},
   "source": [
    "##### And some variable"
   ]
  },
  {
   "cell_type": "code",
   "execution_count": 2,
   "metadata": {
    "vscode": {
     "languageId": "bat"
    }
   },
   "outputs": [],
   "source": [
    "path_john = \"output\\\\john.json\"\n",
    "path_bob = \"output\\\\bob.json\"\n",
    "path_maria = \"output\\\\maria.json\"\n",
    "path_alice = \"output\\\\alice.json\"\n",
    "path_multisig_2_3 = \"output\\\\multisig-2-3.json\"\n",
    "path_multisig_2_3_transaction = \"output\\\\multisig-2-3-transaction.json\"\n",
    "path_multisig_2_2 = \"output\\\\multisig-2-2.json\"\n",
    "path_multisig_2_2_transaction = \"output\\\\multisig-2-2-transaction.json\"\n",
    "path_multisig_2_3_transact_2 = \"output\\\\multisig-2-3-transaction_2.json\""
   ]
  },
  {
   "cell_type": "markdown",
   "metadata": {},
   "source": [
    "### Update bitcoin.conf"
   ]
  },
  {
   "cell_type": "markdown",
   "metadata": {},
   "source": [
    "<p>Before continue, you need to run a bitcoin node in regtest and enable server in configuration.<br>\n",
    "To do so, we need to add the lines bellow in the bitcoin configuration (we use string 'admin' as the rpc use and its password)</p>"
   ]
  },
  {
   "cell_type": "markdown",
   "metadata": {},
   "source": [
    ">regtest=1<br>\n",
    ">server=1<br>\n",
    ">rpcuser=admin<br>\n",
    ">rpcpassword=admin<br>"
   ]
  },
  {
   "cell_type": "markdown",
   "metadata": {},
   "source": [
    "**/!\\\\** *After we update the configuration file, we must execute the command **bitcoind** in a terminal/command line before we continue with the test*"
   ]
  },
  {
   "cell_type": "markdown",
   "metadata": {},
   "source": [
    "## Prepare our regtest blockchain"
   ]
  },
  {
   "cell_type": "markdown",
   "metadata": {},
   "source": [
    "Let's create a wallet and mine some blocks to get some bitcoin flowing in our blockchain"
   ]
  },
  {
   "cell_type": "code",
   "execution_count": 3,
   "metadata": {
    "vscode": {
     "languageId": "bat"
    }
   },
   "outputs": [
    {
     "name": "stdout",
     "output_type": "stream",
     "text": [
      "{\n",
      "  \"name\": \"wallet\",\n",
      "  \"warning\": \"\"\n",
      "}\n"
     ]
    }
   ],
   "source": [
    "!bitcoin-cli createwallet wallet"
   ]
  },
  {
   "cell_type": "code",
   "execution_count": 4,
   "metadata": {
    "vscode": {
     "languageId": "bat"
    }
   },
   "outputs": [
    {
     "data": {
      "text/plain": [
       "'bcrt1q5cm4pfhkc645pqynyxx0dhdqvn35qz5xwa9fdc'"
      ]
     },
     "execution_count": 4,
     "metadata": {},
     "output_type": "execute_result"
    }
   ],
   "source": [
    "miner = !bitcoin-cli getnewaddress address\n",
    "miner = miner[0]\n",
    "miner"
   ]
  },
  {
   "cell_type": "code",
   "execution_count": 5,
   "metadata": {
    "vscode": {
     "languageId": "bat"
    }
   },
   "outputs": [
    {
     "name": "stdout",
     "output_type": "stream",
     "text": [
      "[\n",
      "  \"4bb8c47e2ba67faba691729a786fe68c750fba9ac9649bb3bb36c4cafbf7b5a2\",\n",
      "  \"5a10dcf36e87225952ec7db9a9a5d5273e7617dce0f04678ea0f4f5e77d1c954\",\n",
      "  \"304b044af4876654a4512213cd1267f14530212f8f9f221ef69cc9f54e0132d9\",\n",
      "  \"6a848c0f4d04be2d4a62c39af5c486a3ee8ce5d21473791c9ffd6b9fc3c3c5a2\",\n",
      "  \"3531150835018db694e46b29a64293dfcf065b505e2f6f8e58af50343e7445d0\",\n",
      "  \"0139fc5e3bd7e4c6794f60a7ff3449171d431404a9ad864fdc2378b35f6307e4\",\n",
      "  \"2a05ae1ea45d484648c6b18eb20517647ea17a3b6164d45cd79991bf310a546d\",\n",
      "  \"5d394bcc9d1de0cb70112d338cbc2bbec5a064068191921a191ae00b24c62865\",\n",
      "  \"4a81d0f802ead8a4921808733743ec63ff40bfeef8a3ef5b79d681ecc5442e39\",\n",
      "  \"531a77f9ffc052bcdf579cf069d0072c59f6779d38305bdcdc6a1e10135cefc1\",\n",
      "  \"5d4bec96f99c57d80dc70aa76e9bcc4c76c7ccc2038db44e8fbb81c2433d0ac1\",\n",
      "  \"677c536d929f4742c89ba2262bc8c8d4d68afd7f3166c9f1811d924cc03db848\",\n",
      "  \"729a386a046e0a2cf85b2ed53c76da80b66eca5afa32f6094dc58be548b0b3f8\",\n",
      "  \"7bca3b2db032284f335b1f24695d52220fa650ec09dc8b45909cdacb7915eb18\",\n",
      "  \"4dac22cbd295e07d55bc30e5759b38a6822600607cc9d2d5861f58c20dbdc402\",\n",
      "  \"5e123b5efc0b0e6eb870581fb667858050546b0fc437aeb1e457062bdddae284\",\n",
      "  \"4e7c7cd0e087a344fc3b3230e6e7305c986ecb6461dea91282119b17ae663d45\",\n",
      "  \"0b0b99afbc9458c823f437307461478ed19e3a8e05e81a045b65a6a7ae35e9b6\",\n",
      "  \"39e96f7def2e3959165fb3b8ac3278b9b857788f10cb63385e8f94452d4835cc\",\n",
      "  \"1f2214752c71557c86889d4ce380556f638a2bf1feb31f71ecd12f2f708a2ea8\",\n",
      "  \"2789819ed541f340b9f9695c88bcade32c1b0d557d7e88212b75d65683aeb033\",\n",
      "  \"0246556b7e5b198c5fae504d5d0ffee58f57771fa66605aa1ca36c1861322c0a\",\n",
      "  \"412b9a7b9369f2845d860bb7b0e0cdd180288dfd3860a92dc0e4dabf1edde2ba\",\n",
      "  \"70425a9c46c9ed9ca595f04baf956c68cb42901ff62980a89787c1c958bfbd9a\",\n",
      "  \"1f79ca7cfa0db5c46925b961441b5acbd320c87143b824ae63fde24d61fad35d\",\n",
      "  \"1d51ca4cdeb7c4b70358a2b3e9932493596a229643c4e35eac1ad9afdf9a77ff\",\n",
      "  \"15bf4931ad2e6278b58db076a7090b4ec3f692e0c540f7fec5e5d8f7cf583619\",\n",
      "  \"01832583ab1851581f063dc7c5343c876d287745d861371051804796ac44657d\",\n",
      "  \"5cb27d4d14fc31526d2285a98b58a5cff83571c265a7b93e286c8edf161401d5\",\n",
      "  \"277d8524e9343de6444fc369231b693ce6d675078da000759ec8529ec02c65b5\",\n",
      "  \"00e3e9b5caabf70475980b24b3f4e09fdf787acd016b1405748da2ee58e25be4\",\n",
      "  \"5600be60aee0a4026c893f48778a89b0ddf319a7299fe9733209be7abfe7c067\",\n",
      "  \"3bce05a2b20f13f0e0377dd8e15bfc967dcbbb5fbcccfbf97c3655e3646e6254\",\n",
      "  \"14621d33bbc9623f3797be4553d05251e7d7c9bf5b663c1df19ba26237cbf01f\",\n",
      "  \"28e6efa3f0c5ddec48dd74a114b2957415e14c6f796caf390a53d4b8862d2ee3\",\n",
      "  \"4beddb6a21b8b040a564de3e7811bef8adad114304463db2036d07ba65281705\",\n",
      "  \"5040955e315ab616cb742f29d427de5a5caa2fd7aa703eed26c196e9b794e795\",\n",
      "  \"13da817daf2e66ed210ff20f88315b5cf72086888004d03092b642877db6add4\",\n",
      "  \"0b10cde9f7ddff1a5a0f0824ac2df857944a2d3badf9f26491df33f87330ea78\",\n",
      "  \"12447f96f41143eca95f732705d1c67ff3b9504cb710d5a6474e90d5246fc70a\",\n",
      "  \"11c1a31c3f51e60c688f9327e2dd2f869b602712c8f9431a4f3e8109f0323d7b\",\n",
      "  \"2f4fd1c7b74e6d99a277a90a9088f474a4ab50732a7cf960ebbf5dac8e9b43bb\",\n",
      "  \"00e7172b62dab219c0317eba12206a61bd49fdb18ac52505fc3762178b86a50c\",\n",
      "  \"7590b9786293072dd5dae578d00056b83d94421059bd3b9f8a7cef63cff4e15b\",\n",
      "  \"71eb741dc8c45c5bbbd64853bc06ea124a3089a2c123dfc7bda2e1ab47af5c5f\",\n",
      "  \"09b89473edb3ca5ffd6e4b96be73f338def29e90d2065c29c1bdf622a7df07a8\",\n",
      "  \"2b4374b998851de213b9515e9298c7b68ce0aef0de31d5dabd3806e26fcb1756\",\n",
      "  \"110ea3159fec13cc26516655fcc92063134a1298ea3be43ed3a48f79fe39d912\",\n",
      "  \"0a152599e1652135b9076016dc91f766db604438fb2637785ee323e4a2f56376\",\n",
      "  \"42e9edf34d363268eb9d3ed45d0c77c5b52c6fde7d71e6eadb96daca89bf1edb\",\n",
      "  \"480dea3759d55b1af6c37721f152ad2ff1d19ee6ee0881efab59cfc784a318c3\",\n",
      "  \"1fabb7a873fe1686685be0017056fe591ec1da5dbba14a69a8f142155fcb33b6\",\n",
      "  \"76140fefb433306eb224f36944f7bdce31719bd02c69b735c34ec24a48197b1d\",\n",
      "  \"3d1837a9a5b7b3b7ef42a1a3a368e5355e2558bd118a23644c43224772a52990\",\n",
      "  \"3c3d1ee42dce82daa64845d4dc9af6b6477c846b07bfa2d27c970bb7c0c52dd9\",\n",
      "  \"5e3c14449846262e300935e4b048ebd051973cee07324f938e12b70364ced07e\",\n",
      "  \"295f38320a4a0eff3f46c6c922f0f503be37bfde728d18aee0714bff9b2796b1\",\n",
      "  \"7f32dce765cd5ebd2ec9a98d305416f406e2c07f95d4652db8ccca272786e964\",\n",
      "  \"53d1a18a98bd4cae3d56072782bee4f436438cecc691bf71ac5d8c5f8728e14b\",\n",
      "  \"75b8b48c486ecd66c181c492a5df198ffbd3a3b19ed81629e274d6878abaa8ba\",\n",
      "  \"4f887617c31d769f3f38e4bff0aa8970c90376cb069469dabaf444bfad25c104\",\n",
      "  \"6f646edb17f3857660b5bf907cff36f903cd1e1d4d90349bad7149168b0df19d\",\n",
      "  \"52197d912dd4a55fd74ce23f63a374b82299ca4a95c1eacf0400dfe36b04eb99\",\n",
      "  \"48da0088561b7b501a5e92a4b2f94f3a9e3c8e53e786e73cf26b668913bf6968\",\n",
      "  \"47aa682c140bf5c72ced9d5449ebbc2aaad6ce33457e11b7b156fa53a445c0b2\",\n",
      "  \"7c031ca9893426dbd4892ed26bbdb6c5f146c7b0ebff032a94dd7c5aa4f7e11b\",\n",
      "  \"58b5996d33b0a332d07ae29b10aba4e505b39e2c6de365ac1f87526bf0d3a69a\",\n",
      "  \"474302417666557631239e77bc511954386911b2bc82c86dac6c7e1e3f417c97\",\n",
      "  \"7ac00f6aae57688e25c206e8042a7d9029d1e9efd28f2ce045852e8c50546b2b\",\n",
      "  \"793ec5c883c39aa7295895d87ec8c30c72d25c9c2c0a48a9fa53ac6543ac6eda\",\n",
      "  \"382d2a45590857b439a63a3e518e0214314670d53c9035cf856bd7945fa18399\",\n",
      "  \"29db217d5001b2b127fa63781953cdcc134a6e3d8df9bc89f5c41e1ff60f6f99\",\n",
      "  \"1423c23f719311940ace5c2de80b0f6803076914e58c6cb933b159e66e8a808a\",\n",
      "  \"5d49305ac7e036905e0733f9f248a2df542017fe89c3adc6c316466409e80276\",\n",
      "  \"03fddfca74c7617a0f5097d60f2b05c0bbae7b1b59db966ee1cd6a5b7d968098\",\n",
      "  \"33a51de0aac249aac0b34d64427138765b439bd47ecee5c96e30065c9d1ee2db\",\n",
      "  \"1d8077ac4d6467584e7de4aa059b4129b5b1801f77e55d73dd96134284ae8c05\",\n",
      "  \"2ccca28ed1fe43f88b0861b4dc6476add3efc97871b01628efae34c057be3894\",\n",
      "  \"3a78bc34326dff3c3b567d47a69b06f3ec513b790b36cb8f23d89d3cedf80194\",\n",
      "  \"2aa3b51eeec7b3e0e7bc62d3fe9f3198acaad647e2e6274b1368d062c2077f38\",\n",
      "  \"07c9e3f17215f033625256592dc7c906bbb2bd9e0a9a33b1c765bd4d7e25cfdf\",\n",
      "  \"312c6888efffb0fd66b9db75793276286cc404623cf63475a96d3f859f5f050e\",\n",
      "  \"4b3419ab65614bce22062f4d0cb6d5767ac4a57b6a8b01228fc3d6c371414929\",\n",
      "  \"164f6b5391a9d7e49d2fd3b7cbfdc60c554aa138180cecddc1527f480abdad38\",\n",
      "  \"310e4db4fd0957bff33cc551fb7ac0cfd2f6f0f1e20700c87f8017fa5dba3b0e\",\n",
      "  \"75c99a40118f237657f51d63591356dd506dc07e2a3fa336d3528cad4a15d8f4\",\n",
      "  \"1bd8efc3c7fae2840143b5f1db230eecedd47421ced1401ea58dfbc1f3e9e7ae\",\n",
      "  \"5cf2dba27be68aa173bb41f2680d8befcc45724e33f4571157ec9f13c8b42e08\",\n",
      "  \"12e8b1d8904a59bdc28c8c911ea961dac5ec1dc133e021d246f4c1948b88a7b7\",\n",
      "  \"1533099da951c06e9b7c6b0c61010215c1fd766fc710cf6e4fdc0ee67172ee4d\",\n",
      "  \"5b06430fe4f51216911d7c446d6c44ab65d7dcbef5984993487e50da2f7b452a\",\n",
      "  \"5cfdb8310bdb92bacc30ce62666245ac4cc762f7d1a08d97c98cf7ae2e1e6c90\",\n",
      "  \"4436e9510c3f4752dfe1504036b23ac86b25329f3948e260dd2745536c2c46db\",\n",
      "  \"67e5d3a08c490fad8c9f040553f976ddcc65dafc52350d6a5bada9dafef68a48\",\n",
      "  \"468b34c8dcb737041db31938e6348a2b4916ea6b066dedbf821e972a99feb7b7\",\n",
      "  \"7237daf9feef6bace3feebced9fa8f616767f99485479806f6263c57c460b729\",\n",
      "  \"48f440e0fdf6b5ca48433d59287695f544fd0162224e22049dbf0e1564595cfc\",\n",
      "  \"6ffa7058e71fcfc7eba0be058e19156c05a4ef4975e8cbf4555dc0eacfbf000d\",\n",
      "  \"304db3aa6cce9b7b557099df769c1e89de082df2b14a9bae523ec51ba69dafe3\",\n",
      "  \"25312b5dbee3211d66da693f420c22e564b6500a871576b8b44685f90fabb1bc\",\n",
      "  \"24d18f4d4e32ca3a267c0110f708dd4fe13f82744b4ea71ecfc036082c09aa5f\"\n",
      "]\n"
     ]
    }
   ],
   "source": [
    "!bitcoin-cli generatetoaddress 101 {miner}"
   ]
  },
  {
   "cell_type": "code",
   "execution_count": 6,
   "metadata": {
    "vscode": {
     "languageId": "bat"
    }
   },
   "outputs": [
    {
     "name": "stdout",
     "output_type": "stream",
     "text": [
      "[\n",
      "  [\n",
      "    [\n",
      "      \"bcrt1q5cm4pfhkc645pqynyxx0dhdqvn35qz5xwa9fdc\",\n",
      "      50.00000000,\n",
      "      \"address\"\n",
      "    ]\n",
      "  ]\n",
      "]\n"
     ]
    }
   ],
   "source": [
    "!bitcoin-cli listaddressgroupings"
   ]
  },
  {
   "cell_type": "markdown",
   "metadata": {},
   "source": [
    "Ok so we created a wallet and an address and mined 101 blocks in order to get some funds in our address to work with (miner reward is locked for 100 blocks)"
   ]
  },
  {
   "cell_type": "markdown",
   "metadata": {},
   "source": [
    "## Create some private-public key pairs to work with"
   ]
  },
  {
   "cell_type": "markdown",
   "metadata": {},
   "source": [
    "##### John's Keys"
   ]
  },
  {
   "cell_type": "code",
   "execution_count": 7,
   "metadata": {
    "vscode": {
     "languageId": "bat"
    }
   },
   "outputs": [
    {
     "data": {
      "text/plain": [
       "{'address': 'bcrt1qkx5vdrj0jz73n8qkssfptfanknnh4gsey7qr6n',\n",
       " 'keys': {'name': 'John',\n",
       "  'private': '+wGTOevODdDFajX65ZsYn+dk2KIx4XmpeDnUrIoK+pPZI/sVlp8T4J3pbAn30zmjgNTtYfF/uXBiiHNqNK4RtfduKdK2ACezsTwFK4W6tWHPJ0q/cWogP4GTOWQmW5PoHF6J7NPtyfs=',\n",
       "  'public': '030a10de3e8ea718246cc79424d0f27fe7ec193e8949662a5cff75a23f49a6094c'},\n",
       " 'type': 'address'}"
      ]
     },
     "execution_count": 7,
     "metadata": {},
     "output_type": "execute_result"
    }
   ],
   "source": [
    "result = !python.exe MultiSigBTC.py -o {path_john} create_new_address \"John\" \"pass\" -s \"john\"\n",
    "#Store some values we will use later :\n",
    "result = ''.join([str(elem) for elem in result]).replace(\"'\",'\"')\n",
    "result = json.loads(result)\n",
    "john = result['address']\n",
    "result"
   ]
  },
  {
   "cell_type": "markdown",
   "metadata": {},
   "source": [
    "##### Bob's Keys"
   ]
  },
  {
   "cell_type": "code",
   "execution_count": 8,
   "metadata": {
    "vscode": {
     "languageId": "bat"
    }
   },
   "outputs": [
    {
     "name": "stdout",
     "output_type": "stream",
     "text": [
      "{'address': 'msXtCoKiBft566TaYP9xjMAbRe1dPdSrSj',\n",
      " 'keys': {'name': 'Bob',\n",
      "          'private': '8m5Kn3HPvd+kAjnSeC+8ioRs6hjar8taTABkDk+oRRQjCxudZ1ispqwMp2TmBSNDMDjNelPVoiD8KtfUtMkN7GeZQub2bv8Ba0e59jqAi6Q2zLmp0kJN16nbuiUfaFACJLJvqz7jQPk=',\n",
      "          'public': '026f7a4f6fcf1ae8aa25e1227cb9b67aa462edc47e956d7d3d7dbe899e09484e4c'},\n",
      " 'type': 'address'}\n"
     ]
    }
   ],
   "source": [
    "!python.exe MultiSigBTC.py -o {path_bob} create_new_address \"Bob\" \"pass\" -s \"bob\" -t \"legacy\""
   ]
  },
  {
   "cell_type": "markdown",
   "metadata": {},
   "source": [
    "##### Maria's Keys"
   ]
  },
  {
   "cell_type": "code",
   "execution_count": 9,
   "metadata": {
    "vscode": {
     "languageId": "bat"
    }
   },
   "outputs": [
    {
     "name": "stdout",
     "output_type": "stream",
     "text": [
      "{'address': 'bcrt1qvxkn6zzxtgulg2mscsv48468473jjldgra0ha7',\n",
      " 'keys': {'name': 'Maria',\n",
      "          'private': 'biLKoGd77Hzq60JqbSKeFLV2lgzJcTr0n8n9xpe1urUNi0W/hv+ieZjXipTEMNQe+cm2GDMBrZ/wGnbUe/xukY5UhhpOHyYuI8zKH9WKAaDqD8W6M64QX/8jvxFYI6kYk05PFN1jbSU=',\n",
      "          'public': '02b6ec4ee5a73f82c69ac37cb27e8212cd0fef3e48768c7ca71ef3b82b344510bf'},\n",
      " 'type': 'address'}\n"
     ]
    }
   ],
   "source": [
    "!python.exe MultiSigBTC.py -o {path_maria} create_new_address \"Maria\" \"pass\" -s \"maria\""
   ]
  },
  {
   "cell_type": "markdown",
   "metadata": {},
   "source": [
    "##### Alice's Keys"
   ]
  },
  {
   "cell_type": "code",
   "execution_count": 10,
   "metadata": {
    "vscode": {
     "languageId": "bat"
    }
   },
   "outputs": [
    {
     "name": "stdout",
     "output_type": "stream",
     "text": [
      "{'address': 'bcrt1q8vwf9rfkrzwmj7hw3dre4d37aw440jsw3pkz02',\n",
      " 'keys': {'name': 'Alice',\n",
      "          'private': 'mZz0ZhnFhSUzGECDHLNOi7eMuBcMTLnxlRl7gB0dDXfzLEtiVn5tsdQPOzaxhBRtpeReAUbL5vs5UHJ12sx2v180x8F69tlfuMnU9YWFvdMWEaOhBCnfW+IoKoascfVIyphdUblZZA4=',\n",
      "          'public': '039dabdd38f7eb2eff0dd7d8fadac724fa7f0330d03c267c0a6a7958143c49babc'},\n",
      " 'type': 'address'}\n"
     ]
    }
   ],
   "source": [
    "!python.exe MultiSigBTC.py -o {path_alice} create_new_address \"Alice\" \"pass\" -s \"alice\""
   ]
  },
  {
   "cell_type": "markdown",
   "metadata": {},
   "source": [
    "## Create a 2 out of 3 Multi Signature Address"
   ]
  },
  {
   "cell_type": "code",
   "execution_count": 11,
   "metadata": {
    "vscode": {
     "languageId": "bat"
    }
   },
   "outputs": [
    {
     "data": {
      "text/plain": [
       "{'address': '2N8ZjuyrxVVHNDfLUKAQshJ4g2bvNkCMaeE',\n",
       " 'keys': [{'name': 'John',\n",
       "   'private': '',\n",
       "   'public': '030a10de3e8ea718246cc79424d0f27fe7ec193e8949662a5cff75a23f49a6094c'},\n",
       "  {'name': 'Bob',\n",
       "   'private': '',\n",
       "   'public': '026f7a4f6fcf1ae8aa25e1227cb9b67aa462edc47e956d7d3d7dbe899e09484e4c'},\n",
       "  {'name': 'Alice',\n",
       "   'private': '',\n",
       "   'public': '039dabdd38f7eb2eff0dd7d8fadac724fa7f0330d03c267c0a6a7958143c49babc'}],\n",
       " 'script': [2,\n",
       "  '030a10de3e8ea718246cc79424d0f27fe7ec193e8949662a5cff75a23f49a6094c',\n",
       "  '026f7a4f6fcf1ae8aa25e1227cb9b67aa462edc47e956d7d3d7dbe899e09484e4c',\n",
       "  '039dabdd38f7eb2eff0dd7d8fadac724fa7f0330d03c267c0a6a7958143c49babc',\n",
       "  3,\n",
       "  'OP_CHECKMULTISIG'],\n",
       " 'signatures_required': 2,\n",
       " 'type': 'multisig_address'}"
      ]
     },
     "execution_count": 11,
     "metadata": {},
     "output_type": "execute_result"
    }
   ],
   "source": [
    "result = !python MultiSigBTC.py -o {path_multisig_2_3} create_multisig_address 2 {path_john} {path_bob} {path_alice} -t \"legacy\"\n",
    "#Store some values we will use later :\n",
    "result = ''.join([str(elem) for elem in result]).replace(\"'\",'\"').replace(\"None\",'\"\"')\n",
    "result = json.loads(result)\n",
    "multisig_2_3 = result['address']\n",
    "result"
   ]
  },
  {
   "cell_type": "markdown",
   "metadata": {},
   "source": [
    "Now we have our 2 out of 3 multi signature address."
   ]
  },
  {
   "cell_type": "markdown",
   "metadata": {},
   "source": [
    "### Send some funds to the newly created multi signature address"
   ]
  },
  {
   "cell_type": "code",
   "execution_count": 12,
   "metadata": {
    "vscode": {
     "languageId": "bat"
    }
   },
   "outputs": [
    {
     "name": "stdout",
     "output_type": "stream",
     "text": [
      "511a994f05c7ff0ad94056a9f116106075f1eef4f54bb35e87033bd8c4c9ca68\n"
     ]
    }
   ],
   "source": [
    "!bitcoin-cli sendtoaddress {multisig_2_3} 1"
   ]
  },
  {
   "cell_type": "code",
   "execution_count": 13,
   "metadata": {
    "vscode": {
     "languageId": "bat"
    }
   },
   "outputs": [
    {
     "name": "stdout",
     "output_type": "stream",
     "text": [
      "a265208c4ef799bfa032e515282e42533aa3051a40c723dd7ecb4f46cec380cb\n"
     ]
    }
   ],
   "source": [
    "!bitcoin-cli sendtoaddress {multisig_2_3} 0.3"
   ]
  },
  {
   "cell_type": "code",
   "execution_count": 14,
   "metadata": {
    "vscode": {
     "languageId": "bat"
    }
   },
   "outputs": [
    {
     "name": "stdout",
     "output_type": "stream",
     "text": [
      "562e4854b654493eced82541fcd4516c91ecfdd4114a9b62b203e9c70c786855\n"
     ]
    }
   ],
   "source": [
    "!bitcoin-cli sendtoaddress {multisig_2_3} 1.1"
   ]
  },
  {
   "cell_type": "code",
   "execution_count": 15,
   "metadata": {
    "vscode": {
     "languageId": "bat"
    }
   },
   "outputs": [
    {
     "name": "stdout",
     "output_type": "stream",
     "text": [
      "26cf3c83ab4131479bd7eb9f1351792cad6aac4377ed5dc86f9b4201b85dfd4c\n"
     ]
    }
   ],
   "source": [
    "!bitcoin-cli sendtoaddress {multisig_2_3} 5"
   ]
  },
  {
   "cell_type": "code",
   "execution_count": 16,
   "metadata": {
    "vscode": {
     "languageId": "bat"
    }
   },
   "outputs": [
    {
     "name": "stdout",
     "output_type": "stream",
     "text": [
      "[\n",
      "  \"12befd7e3860d7dc9350d92c50ded07592654ea9906f7b3a2dbfae5a8f0516a1\"\n",
      "]\n"
     ]
    }
   ],
   "source": [
    "!bitcoin-cli generatetoaddress 1 {miner}"
   ]
  },
  {
   "cell_type": "code",
   "execution_count": 17,
   "metadata": {
    "vscode": {
     "languageId": "bat"
    }
   },
   "outputs": [
    {
     "name": "stdout",
     "output_type": "stream",
     "text": [
      "77b55ea76c1ab3f06dabc6f2c8680208805bc2dd753ceff2a59b067d48babc4e\n"
     ]
    }
   ],
   "source": [
    "!bitcoin-cli sendtoaddress {multisig_2_3} 52"
   ]
  },
  {
   "cell_type": "code",
   "execution_count": 18,
   "metadata": {
    "vscode": {
     "languageId": "bat"
    }
   },
   "outputs": [
    {
     "name": "stdout",
     "output_type": "stream",
     "text": [
      "[\n",
      "  \"62d4d0ee67cb6e55c956bc32393ae837dc4150a4e90ef7688d032fd915f7257c\"\n",
      "]\n"
     ]
    }
   ],
   "source": [
    "!bitcoin-cli generatetoaddress 1 {miner}"
   ]
  },
  {
   "cell_type": "markdown",
   "metadata": {},
   "source": [
    "To make it a little more challenging for our script (MultiSigBTC.py), we send multiple transactions in order for our multi signature address to own multiple UTXOs"
   ]
  },
  {
   "cell_type": "markdown",
   "metadata": {},
   "source": [
    "### Let's check the balance of our address now"
   ]
  },
  {
   "cell_type": "code",
   "execution_count": 19,
   "metadata": {
    "vscode": {
     "languageId": "bat"
    }
   },
   "outputs": [
    {
     "name": "stdout",
     "output_type": "stream",
     "text": [
      "{'UTXOs': [{'amount': 52.0,\n",
      "            'txid': '77b55ea76c1ab3f06dabc6f2c8680208805bc2dd753ceff2a59b067d48babc4e',\n",
      "            'vout': 1},\n",
      "           {'amount': 5.0,\n",
      "            'txid': '26cf3c83ab4131479bd7eb9f1351792cad6aac4377ed5dc86f9b4201b85dfd4c',\n",
      "            'vout': 0},\n",
      "           {'amount': 1.1,\n",
      "            'txid': '562e4854b654493eced82541fcd4516c91ecfdd4114a9b62b203e9c70c786855',\n",
      "            'vout': 0},\n",
      "           {'amount': 1.0,\n",
      "            'txid': '511a994f05c7ff0ad94056a9f116106075f1eef4f54bb35e87033bd8c4c9ca68',\n",
      "            'vout': 1},\n",
      "           {'amount': 0.3,\n",
      "            'txid': 'a265208c4ef799bfa032e515282e42533aa3051a40c723dd7ecb4f46cec380cb',\n",
      "            'vout': 1}],\n",
      " 'balance': 59.4,\n",
      " 'type': 'balance'}\n"
     ]
    }
   ],
   "source": [
    "!python MultiSigBTC.py -u \"admin\" -p \"admin\" get_address_balance {path_multisig_2_3}"
   ]
  },
  {
   "cell_type": "markdown",
   "metadata": {},
   "source": [
    "### Now that we have some funds, let's create a transaction"
   ]
  },
  {
   "cell_type": "markdown",
   "metadata": {},
   "source": [
    "We will try to send 58 BTC to John's address in order to control alone those 58 BTC, with his keys"
   ]
  },
  {
   "cell_type": "code",
   "execution_count": 20,
   "metadata": {
    "vscode": {
     "languageId": "bat"
    }
   },
   "outputs": [
    {
     "name": "stdout",
     "output_type": "stream",
     "text": [
      "{'UTXOs': [{'amount': 52.0,\n",
      "            'txid': '77b55ea76c1ab3f06dabc6f2c8680208805bc2dd753ceff2a59b067d48babc4e',\n",
      "            'vout': 1},\n",
      "           {'amount': 5.0,\n",
      "            'txid': '26cf3c83ab4131479bd7eb9f1351792cad6aac4377ed5dc86f9b4201b85dfd4c',\n",
      "            'vout': 0},\n",
      "           {'amount': 1.1,\n",
      "            'txid': '562e4854b654493eced82541fcd4516c91ecfdd4114a9b62b203e9c70c786855',\n",
      "            'vout': 0}],\n",
      " 'keys': [{'name': 'John',\n",
      "           'private': None,\n",
      "           'public': '030a10de3e8ea718246cc79424d0f27fe7ec193e8949662a5cff75a23f49a6094c'},\n",
      "          {'name': 'Bob',\n",
      "           'private': None,\n",
      "           'public': '026f7a4f6fcf1ae8aa25e1227cb9b67aa462edc47e956d7d3d7dbe899e09484e4c'},\n",
      "          {'name': 'Alice',\n",
      "           'private': None,\n",
      "           'public': '039dabdd38f7eb2eff0dd7d8fadac724fa7f0330d03c267c0a6a7958143c49babc'}],\n",
      " 'script': [2,\n",
      "            '030a10de3e8ea718246cc79424d0f27fe7ec193e8949662a5cff75a23f49a6094c',\n",
      "            '026f7a4f6fcf1ae8aa25e1227cb9b67aa462edc47e956d7d3d7dbe899e09484e4c',\n",
      "            '039dabdd38f7eb2eff0dd7d8fadac724fa7f0330d03c267c0a6a7958143c49babc',\n",
      "            3,\n",
      "            'OP_CHECKMULTISIG'],\n",
      " 'segwit': False,\n",
      " 'signatures_required': 2,\n",
      " 'type': 'multisig_transaction',\n",
      " 'unsigned_transaction': '02000000034ebcba487d069ba5f2ef3c75ddc25b80080268c8f2c6ab6df0b31a6ca75eb5770100000000ffffffff4cfd5db801429b6fc85ded7743ac6aad2c7951139febd79b473141ab833ccf260000000000ffffffff5568780cc7e903b2629b4a11d4fdec916c51d4fc4125d8ce3e4954b654482e560000000000ffffffff0200fab45901000000160014b1a8c68e4f90bd199c16841215a7b3b4e77aa219405489000000000017a914a80a5ad975825e6ea42dbd841a26c753851810d58700000000'}\n"
     ]
    }
   ],
   "source": [
    "!python MultiSigBTC.py -u \"admin\" -p \"admin\" -o {path_multisig_2_3_transaction} create_multisig_transaction {john} 58 0.01 {path_multisig_2_3}"
   ]
  },
  {
   "cell_type": "markdown",
   "metadata": {},
   "source": [
    "### Let's try to sign the transaction two of the owners"
   ]
  },
  {
   "cell_type": "code",
   "execution_count": 22,
   "metadata": {
    "vscode": {
     "languageId": "bat"
    }
   },
   "outputs": [
    {
     "name": "stdout",
     "output_type": "stream",
     "text": [
      "{'UTXOs': [{'amount': 52.0,\n",
      "            'txid': '77b55ea76c1ab3f06dabc6f2c8680208805bc2dd753ceff2a59b067d48babc4e',\n",
      "            'vout': 1},\n",
      "           {'amount': 5.0,\n",
      "            'txid': '26cf3c83ab4131479bd7eb9f1351792cad6aac4377ed5dc86f9b4201b85dfd4c',\n",
      "            'vout': 0},\n",
      "           {'amount': 1.1,\n",
      "            'txid': '562e4854b654493eced82541fcd4516c91ecfdd4114a9b62b203e9c70c786855',\n",
      "            'vout': 0}],\n",
      " 'keys': [{'name': 'John',\n",
      "           'private': None,\n",
      "           'public': '030a10de3e8ea718246cc79424d0f27fe7ec193e8949662a5cff75a23f49a6094c'},\n",
      "          {'name': 'Bob',\n",
      "           'private': None,\n",
      "           'public': '026f7a4f6fcf1ae8aa25e1227cb9b67aa462edc47e956d7d3d7dbe899e09484e4c'},\n",
      "          {'name': 'Alice',\n",
      "           'private': None,\n",
      "           'public': '039dabdd38f7eb2eff0dd7d8fadac724fa7f0330d03c267c0a6a7958143c49babc'}],\n",
      " 'script': [2,\n",
      "            '030a10de3e8ea718246cc79424d0f27fe7ec193e8949662a5cff75a23f49a6094c',\n",
      "            '026f7a4f6fcf1ae8aa25e1227cb9b67aa462edc47e956d7d3d7dbe899e09484e4c',\n",
      "            '039dabdd38f7eb2eff0dd7d8fadac724fa7f0330d03c267c0a6a7958143c49babc',\n",
      "            3,\n",
      "            'OP_CHECKMULTISIG'],\n",
      " 'segwit': False,\n",
      " 'signatures': {'26cf3c83ab4131479bd7eb9f1351792cad6aac4377ed5dc86f9b4201b85dfd4c': [{'name': 'Bob',\n",
      "                                                                                      'signature': '3045022100d0a93c40d12dcd7949881c6899646eb5e78f5340087496123c21519751eff96902204d979ad865f288bed2b886a8a696e1bf79d9254db6e150ebf7fa9158954de3a101'}],\n",
      "                '562e4854b654493eced82541fcd4516c91ecfdd4114a9b62b203e9c70c786855': [{'name': 'Bob',\n",
      "                                                                                      'signature': '304402202e3de86c01d5426433976af3e52b9acc8dfcdd022b5544a4e258faaf1ca6bb11022021a8626d0d71fdc815941168d4daf160479764c67cb833f132477ecf6e132c4d01'}],\n",
      "                '77b55ea76c1ab3f06dabc6f2c8680208805bc2dd753ceff2a59b067d48babc4e': [{'name': 'Bob',\n",
      "                                                                                      'signature': '3044022018efbfe2c139e4294c712692e7896cc61d3e0b3c814260646f66881eacca894b022071e1c46be08f00c4bd8aa7eea8d58a9577a9e186351304715b8e408c73ccf30101'}]},\n",
      " 'signatures_required': 2,\n",
      " 'type': 'multisig_transaction',\n",
      " 'unsigned_transaction': '02000000034ebcba487d069ba5f2ef3c75ddc25b80080268c8f2c6ab6df0b31a6ca75eb5770100000000ffffffff4cfd5db801429b6fc85ded7743ac6aad2c7951139febd79b473141ab833ccf260000000000ffffffff5568780cc7e903b2629b4a11d4fdec916c51d4fc4125d8ce3e4954b654482e560000000000ffffffff0200fab45901000000160014b1a8c68e4f90bd199c16841215a7b3b4e77aa219405489000000000017a914a80a5ad975825e6ea42dbd841a26c753851810d58700000000'}\n"
     ]
    }
   ],
   "source": [
    "!python MultiSigBTC.py -o {path_multisig_2_3_transaction} sign_multisig_transaction {path_multisig_2_3_transaction} {path_bob} \"pass\""
   ]
  },
  {
   "cell_type": "markdown",
   "metadata": {},
   "source": [
    "##### But what will happen if we try to send the transaction partially signed? Let's try it, why not..."
   ]
  },
  {
   "cell_type": "code",
   "execution_count": 23,
   "metadata": {
    "vscode": {
     "languageId": "bat"
    }
   },
   "outputs": [
    {
     "name": "stdout",
     "output_type": "stream",
     "text": [
      "{'exception': {'message': 'The transaction contains only 1 out of 2 signatures '\n",
      "                          'required',\n",
      "               'type': 'Exception'},\n",
      " 'trace': [{'line': 193, 'name': '<module>'},\n",
      "           {'line': 277, 'name': 'createdSignedTransaction'}],\n",
      " 'type': 'exception'}\n"
     ]
    }
   ],
   "source": [
    "!python MultiSigBTC.py get_signed_multisig_transaction {path_multisig_2_3_transaction}"
   ]
  },
  {
   "cell_type": "markdown",
   "metadata": {},
   "source": [
    "Ah yes I forgot about that, I have implemented a exemption when someone tries to get the signed transaction without having enough signatures... Ok I guess we will not send a partially signed transaction to the network :D"
   ]
  },
  {
   "cell_type": "markdown",
   "metadata": {},
   "source": [
    "##### Ok let's sign the transaction also with Johns keys then"
   ]
  },
  {
   "cell_type": "code",
   "execution_count": 24,
   "metadata": {
    "vscode": {
     "languageId": "bat"
    }
   },
   "outputs": [
    {
     "name": "stdout",
     "output_type": "stream",
     "text": [
      "{'UTXOs': [{'amount': 52.0,\n",
      "            'txid': '77b55ea76c1ab3f06dabc6f2c8680208805bc2dd753ceff2a59b067d48babc4e',\n",
      "            'vout': 1},\n",
      "           {'amount': 5.0,\n",
      "            'txid': '26cf3c83ab4131479bd7eb9f1351792cad6aac4377ed5dc86f9b4201b85dfd4c',\n",
      "            'vout': 0},\n",
      "           {'amount': 1.1,\n",
      "            'txid': '562e4854b654493eced82541fcd4516c91ecfdd4114a9b62b203e9c70c786855',\n",
      "            'vout': 0}],\n",
      " 'keys': [{'name': 'John',\n",
      "           'private': None,\n",
      "           'public': '030a10de3e8ea718246cc79424d0f27fe7ec193e8949662a5cff75a23f49a6094c'},\n",
      "          {'name': 'Bob',\n",
      "           'private': None,\n",
      "           'public': '026f7a4f6fcf1ae8aa25e1227cb9b67aa462edc47e956d7d3d7dbe899e09484e4c'},\n",
      "          {'name': 'Alice',\n",
      "           'private': None,\n",
      "           'public': '039dabdd38f7eb2eff0dd7d8fadac724fa7f0330d03c267c0a6a7958143c49babc'}],\n",
      " 'script': [2,\n",
      "            '030a10de3e8ea718246cc79424d0f27fe7ec193e8949662a5cff75a23f49a6094c',\n",
      "            '026f7a4f6fcf1ae8aa25e1227cb9b67aa462edc47e956d7d3d7dbe899e09484e4c',\n",
      "            '039dabdd38f7eb2eff0dd7d8fadac724fa7f0330d03c267c0a6a7958143c49babc',\n",
      "            3,\n",
      "            'OP_CHECKMULTISIG'],\n",
      " 'segwit': False,\n",
      " 'signatures': {'26cf3c83ab4131479bd7eb9f1351792cad6aac4377ed5dc86f9b4201b85dfd4c': [{'name': 'John',\n",
      "                                                                                      'signature': '3045022100a65009c3118aad9868b6b80a0eb1e4bdf71de15e3fbb301ba6cd237623d9a746022006c575b514fe8cf7864093b89a8f267afb9a1d831f3062941cd9ff53bd99445301'},\n",
      "                                                                                     {'name': 'Bob',\n",
      "                                                                                      'signature': '3045022100d0a93c40d12dcd7949881c6899646eb5e78f5340087496123c21519751eff96902204d979ad865f288bed2b886a8a696e1bf79d9254db6e150ebf7fa9158954de3a101'}],\n",
      "                '562e4854b654493eced82541fcd4516c91ecfdd4114a9b62b203e9c70c786855': [{'name': 'John',\n",
      "                                                                                      'signature': '3045022100fe9d42045379b1c6eb346ba02cf25e9cb26e208d45b4747ee4e7afaecdb457c8022078d08ec62be2dd46294d239647ef63c51c6f897eb9cc91aabb01dfd8f593da1b01'},\n",
      "                                                                                     {'name': 'Bob',\n",
      "                                                                                      'signature': '304402202e3de86c01d5426433976af3e52b9acc8dfcdd022b5544a4e258faaf1ca6bb11022021a8626d0d71fdc815941168d4daf160479764c67cb833f132477ecf6e132c4d01'}],\n",
      "                '77b55ea76c1ab3f06dabc6f2c8680208805bc2dd753ceff2a59b067d48babc4e': [{'name': 'John',\n",
      "                                                                                      'signature': '304502210096dda07ef7c659aab69512359808f08bec71ed15d03155d25a1d7e9dfb91d68e0220183fa1551c253509b0bfaca7ab2433a99861d325d60690021132856411cc62a901'},\n",
      "                                                                                     {'name': 'Bob',\n",
      "                                                                                      'signature': '3044022018efbfe2c139e4294c712692e7896cc61d3e0b3c814260646f66881eacca894b022071e1c46be08f00c4bd8aa7eea8d58a9577a9e186351304715b8e408c73ccf30101'}]},\n",
      " 'signatures_required': 2,\n",
      " 'type': 'multisig_transaction',\n",
      " 'unsigned_transaction': '02000000034ebcba487d069ba5f2ef3c75ddc25b80080268c8f2c6ab6df0b31a6ca75eb5770100000000ffffffff4cfd5db801429b6fc85ded7743ac6aad2c7951139febd79b473141ab833ccf260000000000ffffffff5568780cc7e903b2629b4a11d4fdec916c51d4fc4125d8ce3e4954b654482e560000000000ffffffff0200fab45901000000160014b1a8c68e4f90bd199c16841215a7b3b4e77aa219405489000000000017a914a80a5ad975825e6ea42dbd841a26c753851810d58700000000'}\n"
     ]
    }
   ],
   "source": [
    "!python MultiSigBTC.py -o {path_multisig_2_3_transaction} sign_multisig_transaction {path_multisig_2_3_transaction} {path_john} \"pass\""
   ]
  },
  {
   "cell_type": "markdown",
   "metadata": {},
   "source": [
    "We have now enough keys to created a signed transaction. Please note that it doesn’t really make sense to sign the transaction also with Alice’s key.<br>\n",
    "MultiSigBTC is just keeping the signatures in the results and it will use just 2 out of 3 no matter if we provide 3 of them. Which 2 you ask?<br>\n",
    "The first two. Of course this is not the best solution because one of the first two might be invalid in which case it will create an invalid transaction no matter if the third one is fine.<br>\n",
    "This can be resolved by checking the validity of the signatures before use but let’s just say this part is work in progress :D"
   ]
  },
  {
   "cell_type": "markdown",
   "metadata": {},
   "source": [
    "### Let's produce the signed transaction and submit it to the network"
   ]
  },
  {
   "cell_type": "code",
   "execution_count": 25,
   "metadata": {
    "vscode": {
     "languageId": "bat"
    }
   },
   "outputs": [
    {
     "name": "stdout",
     "output_type": "stream",
     "text": [
      "02000000034ebcba487d069ba5f2ef3c75ddc25b80080268c8f2c6ab6df0b31a6ca75eb57701000000fdfd000048304502210096dda07ef7c659aab69512359808f08bec71ed15d03155d25a1d7e9dfb91d68e0220183fa1551c253509b0bfaca7ab2433a99861d325d60690021132856411cc62a901473044022018efbfe2c139e4294c712692e7896cc61d3e0b3c814260646f66881eacca894b022071e1c46be08f00c4bd8aa7eea8d58a9577a9e186351304715b8e408c73ccf301014c695221030a10de3e8ea718246cc79424d0f27fe7ec193e8949662a5cff75a23f49a6094c21026f7a4f6fcf1ae8aa25e1227cb9b67aa462edc47e956d7d3d7dbe899e09484e4c21039dabdd38f7eb2eff0dd7d8fadac724fa7f0330d03c267c0a6a7958143c49babc53aeffffffff4cfd5db801429b6fc85ded7743ac6aad2c7951139febd79b473141ab833ccf2600000000fdfe0000483045022100a65009c3118aad9868b6b80a0eb1e4bdf71de15e3fbb301ba6cd237623d9a746022006c575b514fe8cf7864093b89a8f267afb9a1d831f3062941cd9ff53bd99445301483045022100d0a93c40d12dcd7949881c6899646eb5e78f5340087496123c21519751eff96902204d979ad865f288bed2b886a8a696e1bf79d9254db6e150ebf7fa9158954de3a1014c695221030a10de3e8ea718246cc79424d0f27fe7ec193e8949662a5cff75a23f49a6094c21026f7a4f6fcf1ae8aa25e1227cb9b67aa462edc47e956d7d3d7dbe899e09484e4c21039dabdd38f7eb2eff0dd7d8fadac724fa7f0330d03c267c0a6a7958143c49babc53aeffffffff5568780cc7e903b2629b4a11d4fdec916c51d4fc4125d8ce3e4954b654482e5600000000fdfd0000483045022100fe9d42045379b1c6eb346ba02cf25e9cb26e208d45b4747ee4e7afaecdb457c8022078d08ec62be2dd46294d239647ef63c51c6f897eb9cc91aabb01dfd8f593da1b0147304402202e3de86c01d5426433976af3e52b9acc8dfcdd022b5544a4e258faaf1ca6bb11022021a8626d0d71fdc815941168d4daf160479764c67cb833f132477ecf6e132c4d014c695221030a10de3e8ea718246cc79424d0f27fe7ec193e8949662a5cff75a23f49a6094c21026f7a4f6fcf1ae8aa25e1227cb9b67aa462edc47e956d7d3d7dbe899e09484e4c21039dabdd38f7eb2eff0dd7d8fadac724fa7f0330d03c267c0a6a7958143c49babc53aeffffffff0200fab45901000000160014b1a8c68e4f90bd199c16841215a7b3b4e77aa219405489000000000017a914a80a5ad975825e6ea42dbd841a26c753851810d58700000000\n"
     ]
    }
   ],
   "source": [
    "!python MultiSigBTC.py -o {path_multisig_2_3_transaction} get_signed_multisig_transaction {path_multisig_2_3_transaction}"
   ]
  },
  {
   "cell_type": "code",
   "execution_count": 26,
   "metadata": {
    "vscode": {
     "languageId": "bat"
    }
   },
   "outputs": [
    {
     "name": "stdout",
     "output_type": "stream",
     "text": [
      "{'txid': ['5437fd2e7e04c31321489fd74e3c391407dabc7032348a150e0791c0f237eac9'],\n",
      " 'type': 'txid'}\n"
     ]
    }
   ],
   "source": [
    "!python MultiSigBTC.py -u \"admin\" -p \"admin\" send_transaction {path_multisig_2_3_transaction}"
   ]
  },
  {
   "cell_type": "markdown",
   "metadata": {},
   "source": [
    "**Success!** The transaction has been submitted! We will generate a block now so it can be included in the blockchain and check the new balances"
   ]
  },
  {
   "cell_type": "code",
   "execution_count": 27,
   "metadata": {
    "vscode": {
     "languageId": "bat"
    }
   },
   "outputs": [
    {
     "data": {
      "text/plain": [
       "'328d7206a086ee9b2e385d968e52b50c9910fa1767f37e7d365a3e78bbb7666d'"
      ]
     },
     "execution_count": 27,
     "metadata": {},
     "output_type": "execute_result"
    }
   ],
   "source": [
    "result = !bitcoin-cli generatetoaddress 1 {miner}\n",
    "result = ''.join([str(elem) for elem in result]).replace(\"'\",'\"').replace(\"None\",'\"\"')\n",
    "result = json.loads(result)\n",
    "block = result[0]\n",
    "block"
   ]
  },
  {
   "cell_type": "code",
   "execution_count": 28,
   "metadata": {
    "vscode": {
     "languageId": "bat"
    }
   },
   "outputs": [
    {
     "name": "stdout",
     "output_type": "stream",
     "text": [
      "{\n",
      "  \"hash\": \"328d7206a086ee9b2e385d968e52b50c9910fa1767f37e7d365a3e78bbb7666d\",\n",
      "  \"confirmations\": 1,\n",
      "  \"height\": 104,\n",
      "  \"version\": 536870912,\n",
      "  \"versionHex\": \"20000000\",\n",
      "  \"merkleroot\": \"32c5ad6856d358776a055ee24d8bee5d5cb8ceb6ef49ea09c00e2de6c38ae90b\",\n",
      "  \"time\": 1650370482,\n",
      "  \"mediantime\": 1650370395,\n",
      "  \"nonce\": 1,\n",
      "  \"bits\": \"207fffff\",\n",
      "  \"difficulty\": 4.656542373906925e-10,\n",
      "  \"chainwork\": \"00000000000000000000000000000000000000000000000000000000000000d2\",\n",
      "  \"nTx\": 2,\n",
      "  \"previousblockhash\": \"62d4d0ee67cb6e55c956bc32393ae837dc4150a4e90ef7688d032fd915f7257c\",\n",
      "  \"strippedsize\": 1176,\n",
      "  \"size\": 1212,\n",
      "  \"weight\": 4740,\n",
      "  \"tx\": [\n",
      "    \"eb2c2a7d0604fc0ca552782b6032a21efe4999766e451f3f69baea54285f857d\",\n",
      "    \"5437fd2e7e04c31321489fd74e3c391407dabc7032348a150e0791c0f237eac9\"\n",
      "  ]\n",
      "}\n"
     ]
    }
   ],
   "source": [
    "!bitcoin-cli getblock {block}"
   ]
  },
  {
   "cell_type": "markdown",
   "metadata": {},
   "source": [
    "##### What is the balance of our multisig address now?"
   ]
  },
  {
   "cell_type": "code",
   "execution_count": 29,
   "metadata": {
    "vscode": {
     "languageId": "bat"
    }
   },
   "outputs": [
    {
     "name": "stdout",
     "output_type": "stream",
     "text": [
      "{'UTXOs': [{'amount': 1.0,\n",
      "            'txid': '511a994f05c7ff0ad94056a9f116106075f1eef4f54bb35e87033bd8c4c9ca68',\n",
      "            'vout': 1},\n",
      "           {'amount': 0.3,\n",
      "            'txid': 'a265208c4ef799bfa032e515282e42533aa3051a40c723dd7ecb4f46cec380cb',\n",
      "            'vout': 1},\n",
      "           {'amount': 0.09,\n",
      "            'txid': '5437fd2e7e04c31321489fd74e3c391407dabc7032348a150e0791c0f237eac9',\n",
      "            'vout': 1}],\n",
      " 'balance': 1.39,\n",
      " 'type': 'balance'}\n"
     ]
    }
   ],
   "source": [
    "!python MultiSigBTC.py -u \"admin\" -p \"admin\" get_address_balance {path_multisig_2_3}"
   ]
  },
  {
   "cell_type": "markdown",
   "metadata": {},
   "source": [
    "It seems correct! The funds have been subtracted from the balance"
   ]
  },
  {
   "cell_type": "markdown",
   "metadata": {},
   "source": [
    "##### And what about the balance on John's address we send the funds to?"
   ]
  },
  {
   "cell_type": "code",
   "execution_count": 30,
   "metadata": {
    "vscode": {
     "languageId": "bat"
    }
   },
   "outputs": [
    {
     "name": "stdout",
     "output_type": "stream",
     "text": [
      "{'UTXOs': [{'amount': 58.0,\n",
      "            'txid': '5437fd2e7e04c31321489fd74e3c391407dabc7032348a150e0791c0f237eac9',\n",
      "            'vout': 0}],\n",
      " 'balance': 58.0,\n",
      " 'type': 'balance'}\n"
     ]
    }
   ],
   "source": [
    "!python MultiSigBTC.py -u \"admin\" -p \"admin\" get_address_balance {john}"
   ]
  },
  {
   "cell_type": "markdown",
   "metadata": {},
   "source": [
    "Everything looks into place! **The test was a success!**"
   ]
  },
  {
   "cell_type": "markdown",
   "metadata": {},
   "source": [
    "## Create a 2 out of 2 multi signature address"
   ]
  },
  {
   "cell_type": "markdown",
   "metadata": {},
   "source": [
    "Now that we have some thing already up and working from our previous test, let's try to create another address that needs 3 out of the 4 owners to sign the transactions"
   ]
  },
  {
   "cell_type": "markdown",
   "metadata": {},
   "source": [
    "### Create the multi signature address"
   ]
  },
  {
   "cell_type": "code",
   "execution_count": 31,
   "metadata": {
    "vscode": {
     "languageId": "bat"
    }
   },
   "outputs": [
    {
     "data": {
      "text/plain": [
       "{'address': 'bcrt1qvgj2u6es30wnnegwtr4vdr63cahee4qpaxx7ytg488u6s835j9psr637ls',\n",
       " 'keys': [{'name': 'Maria',\n",
       "   'private': '',\n",
       "   'public': '02b6ec4ee5a73f82c69ac37cb27e8212cd0fef3e48768c7ca71ef3b82b344510bf'},\n",
       "  {'name': 'Bob',\n",
       "   'private': '',\n",
       "   'public': '026f7a4f6fcf1ae8aa25e1227cb9b67aa462edc47e956d7d3d7dbe899e09484e4c'}],\n",
       " 'script': [2,\n",
       "  '02b6ec4ee5a73f82c69ac37cb27e8212cd0fef3e48768c7ca71ef3b82b344510bf',\n",
       "  '026f7a4f6fcf1ae8aa25e1227cb9b67aa462edc47e956d7d3d7dbe899e09484e4c',\n",
       "  2,\n",
       "  'OP_CHECKMULTISIG'],\n",
       " 'signatures_required': 2,\n",
       " 'type': 'multisig_address'}"
      ]
     },
     "execution_count": 31,
     "metadata": {},
     "output_type": "execute_result"
    }
   ],
   "source": [
    "result = !python MultiSigBTC.py -o {path_multisig_2_2} create_multisig_address 2 {path_bob} {path_maria}\n",
    "#Store some values we will use later :\n",
    "result = ''.join([str(elem) for elem in result]).replace(\"'\",'\"').replace(\"None\",'\"\"')\n",
    "result = json.loads(result)\n",
    "multisig_2_2 = result['address']\n",
    "result"
   ]
  },
  {
   "cell_type": "markdown",
   "metadata": {},
   "source": [
    "### Send some funds to the newly created address"
   ]
  },
  {
   "cell_type": "code",
   "execution_count": 32,
   "metadata": {
    "vscode": {
     "languageId": "bat"
    }
   },
   "outputs": [
    {
     "name": "stdout",
     "output_type": "stream",
     "text": [
      "62227c34920aa3ba7ceebd2cfc62cd1dc6806909663294aff8ab25e7b2f89a2d\n"
     ]
    }
   ],
   "source": [
    "!bitcoin-cli sendtoaddress {multisig_2_2} 14"
   ]
  },
  {
   "cell_type": "code",
   "execution_count": 33,
   "metadata": {
    "vscode": {
     "languageId": "bat"
    }
   },
   "outputs": [
    {
     "name": "stdout",
     "output_type": "stream",
     "text": [
      "[\n",
      "  \"2cfe9542431fb53dc0554ddf59d396510e888010239a6f12fc587785f14f2574\"\n",
      "]\n"
     ]
    }
   ],
   "source": [
    "!bitcoin-cli generatetoaddress 1 {miner}"
   ]
  },
  {
   "cell_type": "code",
   "execution_count": 34,
   "metadata": {
    "vscode": {
     "languageId": "bat"
    }
   },
   "outputs": [
    {
     "name": "stdout",
     "output_type": "stream",
     "text": [
      "{'UTXOs': [{'amount': 14.0,\n",
      "            'txid': '62227c34920aa3ba7ceebd2cfc62cd1dc6806909663294aff8ab25e7b2f89a2d',\n",
      "            'vout': 0}],\n",
      " 'balance': 14.0,\n",
      " 'type': 'balance'}\n"
     ]
    }
   ],
   "source": [
    "!python MultiSigBTC.py -u \"admin\" -p \"admin\" get_address_balance {path_multisig_2_2}"
   ]
  },
  {
   "cell_type": "markdown",
   "metadata": {},
   "source": [
    "### We will now send some funds to the other multi signature address we created earlier"
   ]
  },
  {
   "cell_type": "markdown",
   "metadata": {},
   "source": [
    "##### Firstly let's try sending more funds than we have to see what happens"
   ]
  },
  {
   "cell_type": "code",
   "execution_count": 35,
   "metadata": {
    "vscode": {
     "languageId": "bat"
    }
   },
   "outputs": [
    {
     "name": "stdout",
     "output_type": "stream",
     "text": [
      "{'exception': {'message': 'Not enough funds. Total amount is 14.0',\n",
      "               'type': 'Exception'},\n",
      " 'trace': [{'line': 176, 'name': '<module>'},\n",
      "           {'line': 134, 'name': 'createMultisigTransaction'},\n",
      "           {'line': 112, 'name': 'createTransaction'}],\n",
      " 'type': 'exception'}\n"
     ]
    }
   ],
   "source": [
    "!python MultiSigBTC.py -u \"admin\" -p \"admin\" -o {path_multisig_2_2_transaction} create_multisig_transaction {path_multisig_2_3} 15 0.01 {path_multisig_2_2}"
   ]
  },
  {
   "cell_type": "markdown",
   "metadata": {},
   "source": [
    "Great! The script works as expected, it gets the balance and return an error when we try to send more than we can."
   ]
  },
  {
   "cell_type": "markdown",
   "metadata": {},
   "source": [
    "##### Now we create a valid transaction and we will try to spend the whole UTXO we have (meaning no UTXO returning funds to our address)"
   ]
  },
  {
   "cell_type": "code",
   "execution_count": 36,
   "metadata": {
    "vscode": {
     "languageId": "bat"
    }
   },
   "outputs": [
    {
     "name": "stdout",
     "output_type": "stream",
     "text": [
      "{'UTXOs': [{'amount': 14.0,\n",
      "            'txid': '62227c34920aa3ba7ceebd2cfc62cd1dc6806909663294aff8ab25e7b2f89a2d',\n",
      "            'vout': 0}],\n",
      " 'keys': [{'name': 'Maria',\n",
      "           'private': None,\n",
      "           'public': '02b6ec4ee5a73f82c69ac37cb27e8212cd0fef3e48768c7ca71ef3b82b344510bf'},\n",
      "          {'name': 'Bob',\n",
      "           'private': None,\n",
      "           'public': '026f7a4f6fcf1ae8aa25e1227cb9b67aa462edc47e956d7d3d7dbe899e09484e4c'}],\n",
      " 'script': [2,\n",
      "            '02b6ec4ee5a73f82c69ac37cb27e8212cd0fef3e48768c7ca71ef3b82b344510bf',\n",
      "            '026f7a4f6fcf1ae8aa25e1227cb9b67aa462edc47e956d7d3d7dbe899e09484e4c',\n",
      "            2,\n",
      "            'OP_CHECKMULTISIG'],\n",
      " 'segwit': True,\n",
      " 'signatures_required': 2,\n",
      " 'type': 'multisig_transaction',\n",
      " 'unsigned_transaction': '02000000012d9af8b2e725abf8af943266096980c61dcd62fc2cbdee7cbaa30a92347c22620000000000ffffffff01c00b63530000000017a914a80a5ad975825e6ea42dbd841a26c753851810d58700000000'}\n"
     ]
    }
   ],
   "source": [
    "!python MultiSigBTC.py -u \"admin\" -p \"admin\" -o {path_multisig_2_2_transaction} create_multisig_transaction {path_multisig_2_3} 13.99 0.01 {path_multisig_2_2}"
   ]
  },
  {
   "cell_type": "markdown",
   "metadata": {},
   "source": [
    "So far so good! :D"
   ]
  },
  {
   "cell_type": "markdown",
   "metadata": {},
   "source": [
    "### Now it's time to sign the transaction"
   ]
  },
  {
   "cell_type": "code",
   "execution_count": 37,
   "metadata": {
    "vscode": {
     "languageId": "bat"
    }
   },
   "outputs": [
    {
     "name": "stdout",
     "output_type": "stream",
     "text": [
      "{'UTXOs': [{'amount': 14.0,\n",
      "            'txid': '62227c34920aa3ba7ceebd2cfc62cd1dc6806909663294aff8ab25e7b2f89a2d',\n",
      "            'vout': 0}],\n",
      " 'keys': [{'name': 'Maria',\n",
      "           'private': None,\n",
      "           'public': '02b6ec4ee5a73f82c69ac37cb27e8212cd0fef3e48768c7ca71ef3b82b344510bf'},\n",
      "          {'name': 'Bob',\n",
      "           'private': None,\n",
      "           'public': '026f7a4f6fcf1ae8aa25e1227cb9b67aa462edc47e956d7d3d7dbe899e09484e4c'}],\n",
      " 'script': [2,\n",
      "            '02b6ec4ee5a73f82c69ac37cb27e8212cd0fef3e48768c7ca71ef3b82b344510bf',\n",
      "            '026f7a4f6fcf1ae8aa25e1227cb9b67aa462edc47e956d7d3d7dbe899e09484e4c',\n",
      "            2,\n",
      "            'OP_CHECKMULTISIG'],\n",
      " 'segwit': True,\n",
      " 'signatures': {'62227c34920aa3ba7ceebd2cfc62cd1dc6806909663294aff8ab25e7b2f89a2d': [{'name': 'Bob',\n",
      "                                                                                      'signature': '3045022100f922b1046c9fe4654752494e3eba5e897fee75f31c1d9648a497935709338cf9022070294ad0b6287c341f02227e01c964fa63fa1e78b57a342a4263f5b510f309f301'}]},\n",
      " 'signatures_required': 2,\n",
      " 'type': 'multisig_transaction',\n",
      " 'unsigned_transaction': '02000000012d9af8b2e725abf8af943266096980c61dcd62fc2cbdee7cbaa30a92347c22620000000000ffffffff01c00b63530000000017a914a80a5ad975825e6ea42dbd841a26c753851810d58700000000'}\n"
     ]
    }
   ],
   "source": [
    "!python MultiSigBTC.py -o {path_multisig_2_2_transaction} sign_multisig_transaction {path_multisig_2_2_transaction} {path_bob} \"pass\""
   ]
  },
  {
   "cell_type": "code",
   "execution_count": 38,
   "metadata": {
    "vscode": {
     "languageId": "bat"
    }
   },
   "outputs": [
    {
     "name": "stdout",
     "output_type": "stream",
     "text": [
      "{'exception': {'message': 'Failed to decrypt the private key',\n",
      "               'type': 'Exception'},\n",
      " 'trace': [{'line': 185, 'name': '<module>'},\n",
      "           {'line': 207, 'name': 'signMultisigTransaction'},\n",
      "           {'line': 275, 'name': 'getPrivateKey'}],\n",
      " 'type': 'exception'}\n"
     ]
    }
   ],
   "source": [
    "!python MultiSigBTC.py -o {path_multisig_2_2_transaction} sign_multisig_transaction {path_multisig_2_2_transaction} {path_maria} \"passs\""
   ]
  },
  {
   "cell_type": "markdown",
   "metadata": {},
   "source": [
    "Ops, wrong password... Did I do it on purpose? Maybe :D"
   ]
  },
  {
   "cell_type": "code",
   "execution_count": 39,
   "metadata": {
    "vscode": {
     "languageId": "bat"
    }
   },
   "outputs": [
    {
     "name": "stdout",
     "output_type": "stream",
     "text": [
      "{'UTXOs': [{'amount': 14.0,\n",
      "            'txid': '62227c34920aa3ba7ceebd2cfc62cd1dc6806909663294aff8ab25e7b2f89a2d',\n",
      "            'vout': 0}],\n",
      " 'keys': [{'name': 'Maria',\n",
      "           'private': None,\n",
      "           'public': '02b6ec4ee5a73f82c69ac37cb27e8212cd0fef3e48768c7ca71ef3b82b344510bf'},\n",
      "          {'name': 'Bob',\n",
      "           'private': None,\n",
      "           'public': '026f7a4f6fcf1ae8aa25e1227cb9b67aa462edc47e956d7d3d7dbe899e09484e4c'}],\n",
      " 'script': [2,\n",
      "            '02b6ec4ee5a73f82c69ac37cb27e8212cd0fef3e48768c7ca71ef3b82b344510bf',\n",
      "            '026f7a4f6fcf1ae8aa25e1227cb9b67aa462edc47e956d7d3d7dbe899e09484e4c',\n",
      "            2,\n",
      "            'OP_CHECKMULTISIG'],\n",
      " 'segwit': True,\n",
      " 'signatures': {'62227c34920aa3ba7ceebd2cfc62cd1dc6806909663294aff8ab25e7b2f89a2d': [{'name': 'Maria',\n",
      "                                                                                      'signature': '3045022100e11152125b464ba3289d97cdbfaf91e83d75c151d6026614968375cd9f457268022073d1395aa1db4427c15fb23b16041208c6a10bf3713f838222275fa33e9c3c0b01'},\n",
      "                                                                                     {'name': 'Bob',\n",
      "                                                                                      'signature': '3045022100f922b1046c9fe4654752494e3eba5e897fee75f31c1d9648a497935709338cf9022070294ad0b6287c341f02227e01c964fa63fa1e78b57a342a4263f5b510f309f301'}]},\n",
      " 'signatures_required': 2,\n",
      " 'type': 'multisig_transaction',\n",
      " 'unsigned_transaction': '02000000012d9af8b2e725abf8af943266096980c61dcd62fc2cbdee7cbaa30a92347c22620000000000ffffffff01c00b63530000000017a914a80a5ad975825e6ea42dbd841a26c753851810d58700000000'}\n"
     ]
    }
   ],
   "source": [
    "!python MultiSigBTC.py -o {path_multisig_2_2_transaction} sign_multisig_transaction {path_multisig_2_2_transaction} {path_maria} \"pass\""
   ]
  },
  {
   "cell_type": "markdown",
   "metadata": {},
   "source": [
    "### Finally let's send the transaction and check the balances"
   ]
  },
  {
   "cell_type": "code",
   "execution_count": 40,
   "metadata": {
    "vscode": {
     "languageId": "bat"
    }
   },
   "outputs": [
    {
     "data": {
      "text/plain": [
       "'020000000001012d9af8b2e725abf8af943266096980c61dcd62fc2cbdee7cbaa30a92347c22620000000000ffffffff01c00b63530000000017a914a80a5ad975825e6ea42dbd841a26c753851810d5870400483045022100e11152125b464ba3289d97cdbfaf91e83d75c151d6026614968375cd9f457268022073d1395aa1db4427c15fb23b16041208c6a10bf3713f838222275fa33e9c3c0b01483045022100f922b1046c9fe4654752494e3eba5e897fee75f31c1d9648a497935709338cf9022070294ad0b6287c341f02227e01c964fa63fa1e78b57a342a4263f5b510f309f30147522102b6ec4ee5a73f82c69ac37cb27e8212cd0fef3e48768c7ca71ef3b82b344510bf21026f7a4f6fcf1ae8aa25e1227cb9b67aa462edc47e956d7d3d7dbe899e09484e4c52ae00000000'"
      ]
     },
     "execution_count": 40,
     "metadata": {},
     "output_type": "execute_result"
    }
   ],
   "source": [
    "tx = !python MultiSigBTC.py get_signed_multisig_transaction {path_multisig_2_2_transaction}\n",
    "tx[0]"
   ]
  },
  {
   "cell_type": "code",
   "execution_count": 41,
   "metadata": {
    "vscode": {
     "languageId": "bat"
    }
   },
   "outputs": [
    {
     "name": "stdout",
     "output_type": "stream",
     "text": [
      "{'txid': ['e50b040c1a94ceafd7b627156ca8722383cb8379e2578c9ab0b511fc57eaa39f'],\n",
      " 'type': 'txid'}\n"
     ]
    }
   ],
   "source": [
    "!python MultiSigBTC.py -u \"admin\" -p \"admin\" send_transaction {tx[0]}"
   ]
  },
  {
   "cell_type": "markdown",
   "metadata": {},
   "source": [
    "Perfect the transaction has gone through!"
   ]
  },
  {
   "cell_type": "markdown",
   "metadata": {},
   "source": [
    "### Let's put the transaction in a block and check the new balances"
   ]
  },
  {
   "cell_type": "code",
   "execution_count": 42,
   "metadata": {
    "vscode": {
     "languageId": "bat"
    }
   },
   "outputs": [
    {
     "name": "stdout",
     "output_type": "stream",
     "text": [
      "[\n",
      "  \"72592034aadcb3766fd183eca2ca0b24b4ff75272399de169aa66e3594360024\"\n",
      "]\n"
     ]
    }
   ],
   "source": [
    "!bitcoin-cli generatetoaddress 1 {miner}"
   ]
  },
  {
   "cell_type": "code",
   "execution_count": 43,
   "metadata": {
    "vscode": {
     "languageId": "bat"
    }
   },
   "outputs": [
    {
     "name": "stdout",
     "output_type": "stream",
     "text": [
      "{'balance': 0.0, 'type': 'balance'}\n"
     ]
    }
   ],
   "source": [
    "!python MultiSigBTC.py -u \"admin\" -p \"admin\" get_address_balance {path_multisig_2_2}"
   ]
  },
  {
   "cell_type": "code",
   "execution_count": 44,
   "metadata": {
    "vscode": {
     "languageId": "bat"
    }
   },
   "outputs": [
    {
     "name": "stdout",
     "output_type": "stream",
     "text": [
      "{'UTXOs': [{'amount': 13.99,\n",
      "            'txid': 'e50b040c1a94ceafd7b627156ca8722383cb8379e2578c9ab0b511fc57eaa39f',\n",
      "            'vout': 0},\n",
      "           {'amount': 1.0,\n",
      "            'txid': '511a994f05c7ff0ad94056a9f116106075f1eef4f54bb35e87033bd8c4c9ca68',\n",
      "            'vout': 1},\n",
      "           {'amount': 0.3,\n",
      "            'txid': 'a265208c4ef799bfa032e515282e42533aa3051a40c723dd7ecb4f46cec380cb',\n",
      "            'vout': 1},\n",
      "           {'amount': 0.09,\n",
      "            'txid': '5437fd2e7e04c31321489fd74e3c391407dabc7032348a150e0791c0f237eac9',\n",
      "            'vout': 1}],\n",
      " 'balance': 15.38,\n",
      " 'type': 'balance'}\n"
     ]
    }
   ],
   "source": [
    "!python MultiSigBTC.py -u \"admin\" -p \"admin\" get_address_balance {path_multisig_2_3}"
   ]
  },
  {
   "cell_type": "markdown",
   "metadata": {},
   "source": [
    "Great! Everything looks into place!"
   ]
  },
  {
   "cell_type": "markdown",
   "metadata": {},
   "source": [
    "## Try to send a transaction with wrong signatures"
   ]
  },
  {
   "cell_type": "markdown",
   "metadata": {},
   "source": [
    "Ok now let's try to send some funds from the 2 out of 3 multi signature address to the 2 out of 2 multi signature address"
   ]
  },
  {
   "cell_type": "markdown",
   "metadata": {},
   "source": [
    "### Let's create the transaction"
   ]
  },
  {
   "cell_type": "code",
   "execution_count": 45,
   "metadata": {
    "vscode": {
     "languageId": "bat"
    }
   },
   "outputs": [
    {
     "name": "stdout",
     "output_type": "stream",
     "text": [
      "{'UTXOs': [{'amount': 13.99,\n",
      "            'txid': 'e50b040c1a94ceafd7b627156ca8722383cb8379e2578c9ab0b511fc57eaa39f',\n",
      "            'vout': 0}],\n",
      " 'keys': [{'name': 'John',\n",
      "           'private': None,\n",
      "           'public': '030a10de3e8ea718246cc79424d0f27fe7ec193e8949662a5cff75a23f49a6094c'},\n",
      "          {'name': 'Bob',\n",
      "           'private': None,\n",
      "           'public': '026f7a4f6fcf1ae8aa25e1227cb9b67aa462edc47e956d7d3d7dbe899e09484e4c'},\n",
      "          {'name': 'Alice',\n",
      "           'private': None,\n",
      "           'public': '039dabdd38f7eb2eff0dd7d8fadac724fa7f0330d03c267c0a6a7958143c49babc'}],\n",
      " 'script': [2,\n",
      "            '030a10de3e8ea718246cc79424d0f27fe7ec193e8949662a5cff75a23f49a6094c',\n",
      "            '026f7a4f6fcf1ae8aa25e1227cb9b67aa462edc47e956d7d3d7dbe899e09484e4c',\n",
      "            '039dabdd38f7eb2eff0dd7d8fadac724fa7f0330d03c267c0a6a7958143c49babc',\n",
      "            3,\n",
      "            'OP_CHECKMULTISIG'],\n",
      " 'segwit': False,\n",
      " 'signatures_required': 2,\n",
      " 'type': 'multisig_transaction',\n",
      " 'unsigned_transaction': '02000000019fa3ea57fc11b5b09a8c57e27983cb832372a86c1527b6d7afce941a0c040be50000000000ffffffff0200ca9a3b000000002200206224ae6b308bdd39e50e58eac68f51c76f9cd401e98de22d1539f9a81e349143c0a2a3170000000017a914a80a5ad975825e6ea42dbd841a26c753851810d58700000000'}\n"
     ]
    }
   ],
   "source": [
    "!python MultiSigBTC.py -u \"admin\" -p \"admin\" -o {path_multisig_2_3_transact_2} create_multisig_transaction {multisig_2_2} 10 0.024 {path_multisig_2_3}"
   ]
  },
  {
   "cell_type": "markdown",
   "metadata": {},
   "source": [
    "### And now sign it"
   ]
  },
  {
   "cell_type": "code",
   "execution_count": 46,
   "metadata": {
    "vscode": {
     "languageId": "bat"
    }
   },
   "outputs": [
    {
     "name": "stdout",
     "output_type": "stream",
     "text": [
      "{'UTXOs': [{'amount': 13.99,\n",
      "            'txid': 'e50b040c1a94ceafd7b627156ca8722383cb8379e2578c9ab0b511fc57eaa39f',\n",
      "            'vout': 0}],\n",
      " 'keys': [{'name': 'John',\n",
      "           'private': None,\n",
      "           'public': '030a10de3e8ea718246cc79424d0f27fe7ec193e8949662a5cff75a23f49a6094c'},\n",
      "          {'name': 'Bob',\n",
      "           'private': None,\n",
      "           'public': '026f7a4f6fcf1ae8aa25e1227cb9b67aa462edc47e956d7d3d7dbe899e09484e4c'},\n",
      "          {'name': 'Alice',\n",
      "           'private': None,\n",
      "           'public': '039dabdd38f7eb2eff0dd7d8fadac724fa7f0330d03c267c0a6a7958143c49babc'}],\n",
      " 'script': [2,\n",
      "            '030a10de3e8ea718246cc79424d0f27fe7ec193e8949662a5cff75a23f49a6094c',\n",
      "            '026f7a4f6fcf1ae8aa25e1227cb9b67aa462edc47e956d7d3d7dbe899e09484e4c',\n",
      "            '039dabdd38f7eb2eff0dd7d8fadac724fa7f0330d03c267c0a6a7958143c49babc',\n",
      "            3,\n",
      "            'OP_CHECKMULTISIG'],\n",
      " 'segwit': False,\n",
      " 'signatures': {'e50b040c1a94ceafd7b627156ca8722383cb8379e2578c9ab0b511fc57eaa39f': [{'name': 'John',\n",
      "                                                                                      'signature': '304402204b63487dcc57abffe13d21874fb9d78b708b59aa4a92b9dfbbc2b925381203b102206253ccdabb58af06f686492774413bd819c98f9c6549fc8fc800f7a7f1c0d1d801'}]},\n",
      " 'signatures_required': 2,\n",
      " 'type': 'multisig_transaction',\n",
      " 'unsigned_transaction': '02000000019fa3ea57fc11b5b09a8c57e27983cb832372a86c1527b6d7afce941a0c040be50000000000ffffffff0200ca9a3b000000002200206224ae6b308bdd39e50e58eac68f51c76f9cd401e98de22d1539f9a81e349143c0a2a3170000000017a914a80a5ad975825e6ea42dbd841a26c753851810d58700000000'}\n"
     ]
    }
   ],
   "source": [
    "!python MultiSigBTC.py -o {path_multisig_2_3_transact_2} sign_multisig_transaction {path_multisig_2_3_transact_2} {path_john} \"pass\""
   ]
  },
  {
   "cell_type": "markdown",
   "metadata": {},
   "source": [
    "And now we will try to sign with Maria's keys who is not part of the multi signature address"
   ]
  },
  {
   "cell_type": "code",
   "execution_count": 47,
   "metadata": {
    "vscode": {
     "languageId": "bat"
    }
   },
   "outputs": [
    {
     "name": "stdout",
     "output_type": "stream",
     "text": [
      "{'UTXOs': [{'amount': 13.99,\n",
      "            'txid': 'e50b040c1a94ceafd7b627156ca8722383cb8379e2578c9ab0b511fc57eaa39f',\n",
      "            'vout': 0}],\n",
      " 'keys': [{'name': 'John',\n",
      "           'private': None,\n",
      "           'public': '030a10de3e8ea718246cc79424d0f27fe7ec193e8949662a5cff75a23f49a6094c'},\n",
      "          {'name': 'Bob',\n",
      "           'private': None,\n",
      "           'public': '026f7a4f6fcf1ae8aa25e1227cb9b67aa462edc47e956d7d3d7dbe899e09484e4c'},\n",
      "          {'name': 'Alice',\n",
      "           'private': None,\n",
      "           'public': '039dabdd38f7eb2eff0dd7d8fadac724fa7f0330d03c267c0a6a7958143c49babc'}],\n",
      " 'script': [2,\n",
      "            '030a10de3e8ea718246cc79424d0f27fe7ec193e8949662a5cff75a23f49a6094c',\n",
      "            '026f7a4f6fcf1ae8aa25e1227cb9b67aa462edc47e956d7d3d7dbe899e09484e4c',\n",
      "            '039dabdd38f7eb2eff0dd7d8fadac724fa7f0330d03c267c0a6a7958143c49babc',\n",
      "            3,\n",
      "            'OP_CHECKMULTISIG'],\n",
      " 'segwit': False,\n",
      " 'signatures': {'e50b040c1a94ceafd7b627156ca8722383cb8379e2578c9ab0b511fc57eaa39f': [{'name': 'Maria',\n",
      "                                                                                      'signature': '3045022100aed33eac16cc51017aae7b98b3d0bc70bbc1ed43ea02e4a1cd53338accf7a1eb02200223052de9003c0b82aee8a3894d8b8960800f0dab04373a43c281b2feb5a80301'},\n",
      "                                                                                     {'name': 'John',\n",
      "                                                                                      'signature': '304402204b63487dcc57abffe13d21874fb9d78b708b59aa4a92b9dfbbc2b925381203b102206253ccdabb58af06f686492774413bd819c98f9c6549fc8fc800f7a7f1c0d1d801'}]},\n",
      " 'signatures_required': 2,\n",
      " 'type': 'multisig_transaction',\n",
      " 'unsigned_transaction': '02000000019fa3ea57fc11b5b09a8c57e27983cb832372a86c1527b6d7afce941a0c040be50000000000ffffffff0200ca9a3b000000002200206224ae6b308bdd39e50e58eac68f51c76f9cd401e98de22d1539f9a81e349143c0a2a3170000000017a914a80a5ad975825e6ea42dbd841a26c753851810d58700000000'}\n"
     ]
    }
   ],
   "source": [
    "!python MultiSigBTC.py -o {path_multisig_2_3_transact_2} sign_multisig_transaction {path_multisig_2_3_transact_2} {path_maria} \"pass\""
   ]
  },
  {
   "cell_type": "markdown",
   "metadata": {},
   "source": [
    "### We are now ready to send it to the network and see what happens"
   ]
  },
  {
   "cell_type": "code",
   "execution_count": 48,
   "metadata": {
    "vscode": {
     "languageId": "bat"
    }
   },
   "outputs": [
    {
     "name": "stdout",
     "output_type": "stream",
     "text": [
      "02000000019fa3ea57fc11b5b09a8c57e27983cb832372a86c1527b6d7afce941a0c040be500000000fdfd0000483045022100aed33eac16cc51017aae7b98b3d0bc70bbc1ed43ea02e4a1cd53338accf7a1eb02200223052de9003c0b82aee8a3894d8b8960800f0dab04373a43c281b2feb5a8030147304402204b63487dcc57abffe13d21874fb9d78b708b59aa4a92b9dfbbc2b925381203b102206253ccdabb58af06f686492774413bd819c98f9c6549fc8fc800f7a7f1c0d1d8014c695221030a10de3e8ea718246cc79424d0f27fe7ec193e8949662a5cff75a23f49a6094c21026f7a4f6fcf1ae8aa25e1227cb9b67aa462edc47e956d7d3d7dbe899e09484e4c21039dabdd38f7eb2eff0dd7d8fadac724fa7f0330d03c267c0a6a7958143c49babc53aeffffffff0200ca9a3b000000002200206224ae6b308bdd39e50e58eac68f51c76f9cd401e98de22d1539f9a81e349143c0a2a3170000000017a914a80a5ad975825e6ea42dbd841a26c753851810d58700000000\n"
     ]
    }
   ],
   "source": [
    "!python MultiSigBTC.py -u \"admin\" -p \"admin\" -o {path_multisig_2_3_transact_2} get_signed_multisig_transaction {path_multisig_2_3_transact_2}"
   ]
  },
  {
   "cell_type": "code",
   "execution_count": 49,
   "metadata": {
    "vscode": {
     "languageId": "bat"
    }
   },
   "outputs": [
    {
     "name": "stdout",
     "output_type": "stream",
     "text": [
      "{'exception': {'message': '-26: mandatory-script-verify-flag-failed (Signature '\n",
      "                          'must be zero for failed CHECK(MULTI)SIG operation)',\n",
      "               'type': 'JSONRPCException'},\n",
      " 'trace': [{'line': 207, 'name': '<module>'},\n",
      "           {'line': 246, 'name': 'sendTransaction'},\n",
      "           {'line': 262, 'name': 'sendTransaction'},\n",
      "           {'line': 170, 'name': 'batch_'}],\n",
      " 'type': 'exception'}\n"
     ]
    }
   ],
   "source": [
    "!python MultiSigBTC.py -u \"admin\" -p \"admin\" send_transaction {path_multisig_2_3_transact_2}"
   ]
  },
  {
   "cell_type": "markdown",
   "metadata": {},
   "source": [
    "As expected the transaction failed to be submited to the blockchain because the script contains an invalid signature. So all good!"
   ]
  },
  {
   "cell_type": "markdown",
   "metadata": {},
   "source": [
    "### Let's try to create again the transaction and sign it correctly"
   ]
  },
  {
   "cell_type": "code",
   "execution_count": 50,
   "metadata": {
    "vscode": {
     "languageId": "bat"
    }
   },
   "outputs": [
    {
     "name": "stdout",
     "output_type": "stream",
     "text": [
      "{'UTXOs': [{'amount': 13.99,\n",
      "            'txid': 'e50b040c1a94ceafd7b627156ca8722383cb8379e2578c9ab0b511fc57eaa39f',\n",
      "            'vout': 0}],\n",
      " 'keys': [{'name': 'John',\n",
      "           'private': None,\n",
      "           'public': '030a10de3e8ea718246cc79424d0f27fe7ec193e8949662a5cff75a23f49a6094c'},\n",
      "          {'name': 'Bob',\n",
      "           'private': None,\n",
      "           'public': '026f7a4f6fcf1ae8aa25e1227cb9b67aa462edc47e956d7d3d7dbe899e09484e4c'},\n",
      "          {'name': 'Alice',\n",
      "           'private': None,\n",
      "           'public': '039dabdd38f7eb2eff0dd7d8fadac724fa7f0330d03c267c0a6a7958143c49babc'}],\n",
      " 'script': [2,\n",
      "            '030a10de3e8ea718246cc79424d0f27fe7ec193e8949662a5cff75a23f49a6094c',\n",
      "            '026f7a4f6fcf1ae8aa25e1227cb9b67aa462edc47e956d7d3d7dbe899e09484e4c',\n",
      "            '039dabdd38f7eb2eff0dd7d8fadac724fa7f0330d03c267c0a6a7958143c49babc',\n",
      "            3,\n",
      "            'OP_CHECKMULTISIG'],\n",
      " 'segwit': False,\n",
      " 'signatures_required': 2,\n",
      " 'type': 'multisig_transaction',\n",
      " 'unsigned_transaction': '02000000019fa3ea57fc11b5b09a8c57e27983cb832372a86c1527b6d7afce941a0c040be50000000000ffffffff0200ca9a3b000000002200206224ae6b308bdd39e50e58eac68f51c76f9cd401e98de22d1539f9a81e349143c0a2a3170000000017a914a80a5ad975825e6ea42dbd841a26c753851810d58700000000'}\n"
     ]
    }
   ],
   "source": [
    "!python MultiSigBTC.py -u \"admin\" -p \"admin\" -o {path_multisig_2_3_transact_2} create_multisig_transaction {multisig_2_2} 10 0.024 {path_multisig_2_3}"
   ]
  },
  {
   "cell_type": "code",
   "execution_count": 51,
   "metadata": {
    "vscode": {
     "languageId": "bat"
    }
   },
   "outputs": [
    {
     "name": "stdout",
     "output_type": "stream",
     "text": [
      "{'UTXOs': [{'amount': 13.99,\n",
      "            'txid': 'e50b040c1a94ceafd7b627156ca8722383cb8379e2578c9ab0b511fc57eaa39f',\n",
      "            'vout': 0}],\n",
      " 'keys': [{'name': 'John',\n",
      "           'private': None,\n",
      "           'public': '030a10de3e8ea718246cc79424d0f27fe7ec193e8949662a5cff75a23f49a6094c'},\n",
      "          {'name': 'Bob',\n",
      "           'private': None,\n",
      "           'public': '026f7a4f6fcf1ae8aa25e1227cb9b67aa462edc47e956d7d3d7dbe899e09484e4c'},\n",
      "          {'name': 'Alice',\n",
      "           'private': None,\n",
      "           'public': '039dabdd38f7eb2eff0dd7d8fadac724fa7f0330d03c267c0a6a7958143c49babc'}],\n",
      " 'script': [2,\n",
      "            '030a10de3e8ea718246cc79424d0f27fe7ec193e8949662a5cff75a23f49a6094c',\n",
      "            '026f7a4f6fcf1ae8aa25e1227cb9b67aa462edc47e956d7d3d7dbe899e09484e4c',\n",
      "            '039dabdd38f7eb2eff0dd7d8fadac724fa7f0330d03c267c0a6a7958143c49babc',\n",
      "            3,\n",
      "            'OP_CHECKMULTISIG'],\n",
      " 'segwit': False,\n",
      " 'signatures': {'e50b040c1a94ceafd7b627156ca8722383cb8379e2578c9ab0b511fc57eaa39f': [{'name': 'Alice',\n",
      "                                                                                      'signature': '3044022045ec1bfb4c09cc60e2c952a47ee4674758f514bc235ddd464076164eef5fdf11022062a615b6fb6bb755dfb803c5161852182e27b0a0c2dc5d5f891ba1e44febca9601'}]},\n",
      " 'signatures_required': 2,\n",
      " 'type': 'multisig_transaction',\n",
      " 'unsigned_transaction': '02000000019fa3ea57fc11b5b09a8c57e27983cb832372a86c1527b6d7afce941a0c040be50000000000ffffffff0200ca9a3b000000002200206224ae6b308bdd39e50e58eac68f51c76f9cd401e98de22d1539f9a81e349143c0a2a3170000000017a914a80a5ad975825e6ea42dbd841a26c753851810d58700000000'}\n"
     ]
    }
   ],
   "source": [
    "!python MultiSigBTC.py -o {path_multisig_2_3_transact_2} sign_multisig_transaction {path_multisig_2_3_transact_2} {path_alice} \"pass\""
   ]
  },
  {
   "cell_type": "code",
   "execution_count": 52,
   "metadata": {
    "vscode": {
     "languageId": "bat"
    }
   },
   "outputs": [
    {
     "name": "stdout",
     "output_type": "stream",
     "text": [
      "{'UTXOs': [{'amount': 13.99,\n",
      "            'txid': 'e50b040c1a94ceafd7b627156ca8722383cb8379e2578c9ab0b511fc57eaa39f',\n",
      "            'vout': 0}],\n",
      " 'keys': [{'name': 'John',\n",
      "           'private': None,\n",
      "           'public': '030a10de3e8ea718246cc79424d0f27fe7ec193e8949662a5cff75a23f49a6094c'},\n",
      "          {'name': 'Bob',\n",
      "           'private': None,\n",
      "           'public': '026f7a4f6fcf1ae8aa25e1227cb9b67aa462edc47e956d7d3d7dbe899e09484e4c'},\n",
      "          {'name': 'Alice',\n",
      "           'private': None,\n",
      "           'public': '039dabdd38f7eb2eff0dd7d8fadac724fa7f0330d03c267c0a6a7958143c49babc'}],\n",
      " 'script': [2,\n",
      "            '030a10de3e8ea718246cc79424d0f27fe7ec193e8949662a5cff75a23f49a6094c',\n",
      "            '026f7a4f6fcf1ae8aa25e1227cb9b67aa462edc47e956d7d3d7dbe899e09484e4c',\n",
      "            '039dabdd38f7eb2eff0dd7d8fadac724fa7f0330d03c267c0a6a7958143c49babc',\n",
      "            3,\n",
      "            'OP_CHECKMULTISIG'],\n",
      " 'segwit': False,\n",
      " 'signatures': {'e50b040c1a94ceafd7b627156ca8722383cb8379e2578c9ab0b511fc57eaa39f': [{'name': 'Bob',\n",
      "                                                                                      'signature': '304502210080f12e95aa88c4eabacfb3c3a3a9ea6c5ad70af7d7fe88893adf65309898f07a02205b6271c216b660d63f8a2db051e2e460cb515edad8c1e0f7d692dc181a1bd00a01'},\n",
      "                                                                                     {'name': 'Alice',\n",
      "                                                                                      'signature': '3044022045ec1bfb4c09cc60e2c952a47ee4674758f514bc235ddd464076164eef5fdf11022062a615b6fb6bb755dfb803c5161852182e27b0a0c2dc5d5f891ba1e44febca9601'}]},\n",
      " 'signatures_required': 2,\n",
      " 'type': 'multisig_transaction',\n",
      " 'unsigned_transaction': '02000000019fa3ea57fc11b5b09a8c57e27983cb832372a86c1527b6d7afce941a0c040be50000000000ffffffff0200ca9a3b000000002200206224ae6b308bdd39e50e58eac68f51c76f9cd401e98de22d1539f9a81e349143c0a2a3170000000017a914a80a5ad975825e6ea42dbd841a26c753851810d58700000000'}\n"
     ]
    }
   ],
   "source": [
    "!python MultiSigBTC.py -o {path_multisig_2_3_transact_2} sign_multisig_transaction {path_multisig_2_3_transact_2} {path_bob} \"pass\""
   ]
  },
  {
   "cell_type": "code",
   "execution_count": 53,
   "metadata": {
    "vscode": {
     "languageId": "bat"
    }
   },
   "outputs": [
    {
     "name": "stdout",
     "output_type": "stream",
     "text": [
      "02000000019fa3ea57fc11b5b09a8c57e27983cb832372a86c1527b6d7afce941a0c040be500000000fdfd000048304502210080f12e95aa88c4eabacfb3c3a3a9ea6c5ad70af7d7fe88893adf65309898f07a02205b6271c216b660d63f8a2db051e2e460cb515edad8c1e0f7d692dc181a1bd00a01473044022045ec1bfb4c09cc60e2c952a47ee4674758f514bc235ddd464076164eef5fdf11022062a615b6fb6bb755dfb803c5161852182e27b0a0c2dc5d5f891ba1e44febca96014c695221030a10de3e8ea718246cc79424d0f27fe7ec193e8949662a5cff75a23f49a6094c21026f7a4f6fcf1ae8aa25e1227cb9b67aa462edc47e956d7d3d7dbe899e09484e4c21039dabdd38f7eb2eff0dd7d8fadac724fa7f0330d03c267c0a6a7958143c49babc53aeffffffff0200ca9a3b000000002200206224ae6b308bdd39e50e58eac68f51c76f9cd401e98de22d1539f9a81e349143c0a2a3170000000017a914a80a5ad975825e6ea42dbd841a26c753851810d58700000000\n"
     ]
    }
   ],
   "source": [
    "!python MultiSigBTC.py -u \"admin\" -p \"admin\" -o {path_multisig_2_3_transact_2} get_signed_multisig_transaction {path_multisig_2_3_transact_2}"
   ]
  },
  {
   "cell_type": "code",
   "execution_count": 54,
   "metadata": {
    "vscode": {
     "languageId": "bat"
    }
   },
   "outputs": [
    {
     "name": "stdout",
     "output_type": "stream",
     "text": [
      "{'txid': ['b35260aa1d68f87417ed0044cf86af16599097181bd1b4821de9f077787aa97e'],\n",
      " 'type': 'txid'}\n"
     ]
    }
   ],
   "source": [
    "!python MultiSigBTC.py -u \"admin\" -p \"admin\" send_transaction {path_multisig_2_3_transact_2}"
   ]
  },
  {
   "cell_type": "code",
   "execution_count": 55,
   "metadata": {
    "vscode": {
     "languageId": "bat"
    }
   },
   "outputs": [
    {
     "name": "stdout",
     "output_type": "stream",
     "text": [
      "[\n",
      "  \"21b134cce4deee12c8fe03f5c4042116405cdb270dc34caa12b451fd72768f54\"\n",
      "]\n"
     ]
    }
   ],
   "source": [
    "!bitcoin-cli generatetoaddress 1 {miner}"
   ]
  },
  {
   "cell_type": "code",
   "execution_count": 56,
   "metadata": {
    "vscode": {
     "languageId": "bat"
    }
   },
   "outputs": [
    {
     "name": "stdout",
     "output_type": "stream",
     "text": [
      "{'UTXOs': [{'amount': 10.0,\n",
      "            'txid': 'b35260aa1d68f87417ed0044cf86af16599097181bd1b4821de9f077787aa97e',\n",
      "            'vout': 0}],\n",
      " 'balance': 10.0,\n",
      " 'type': 'balance'}\n"
     ]
    }
   ],
   "source": [
    "!python MultiSigBTC.py -u \"admin\" -p \"admin\" get_address_balance {multisig_2_2}"
   ]
  },
  {
   "cell_type": "code",
   "execution_count": 57,
   "metadata": {
    "vscode": {
     "languageId": "bat"
    }
   },
   "outputs": [
    {
     "name": "stdout",
     "output_type": "stream",
     "text": [
      "{'UTXOs': [{'amount': 3.966,\n",
      "            'txid': 'b35260aa1d68f87417ed0044cf86af16599097181bd1b4821de9f077787aa97e',\n",
      "            'vout': 1},\n",
      "           {'amount': 1.0,\n",
      "            'txid': '511a994f05c7ff0ad94056a9f116106075f1eef4f54bb35e87033bd8c4c9ca68',\n",
      "            'vout': 1},\n",
      "           {'amount': 0.3,\n",
      "            'txid': 'a265208c4ef799bfa032e515282e42533aa3051a40c723dd7ecb4f46cec380cb',\n",
      "            'vout': 1},\n",
      "           {'amount': 0.09,\n",
      "            'txid': '5437fd2e7e04c31321489fd74e3c391407dabc7032348a150e0791c0f237eac9',\n",
      "            'vout': 1}],\n",
      " 'balance': 5.356,\n",
      " 'type': 'balance'}\n"
     ]
    }
   ],
   "source": [
    "!python MultiSigBTC.py -u \"admin\" -p \"admin\" get_address_balance {multisig_2_3}"
   ]
  },
  {
   "cell_type": "markdown",
   "metadata": {},
   "source": [
    "**Perfect!** The test concludes here! :)"
   ]
  }
 ],
 "metadata": {
  "interpreter": {
   "hash": "0600588c3b5f4418cbe7b5ebc6825b479f3bc010269d8b60d75058cdd010adfe"
  },
  "kernelspec": {
   "display_name": "Python 3.7.4 64-bit",
   "language": "python",
   "name": "python3"
  },
  "language_info": {
   "codemirror_mode": {
    "name": "ipython",
    "version": 3
   },
   "file_extension": ".py",
   "mimetype": "text/x-python",
   "name": "python",
   "nbconvert_exporter": "python",
   "pygments_lexer": "ipython3",
   "version": "3.7.4"
  },
  "orig_nbformat": 4
 },
 "nbformat": 4,
 "nbformat_minor": 2
}
